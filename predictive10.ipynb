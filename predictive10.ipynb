{
  "nbformat": 4,
  "nbformat_minor": 0,
  "metadata": {
    "colab": {
      "provenance": [],
      "authorship_tag": "ABX9TyOxG7hE6yDSJ6dSPWdpUHRj",
      "include_colab_link": true
    },
    "kernelspec": {
      "name": "python3",
      "display_name": "Python 3"
    },
    "language_info": {
      "name": "python"
    }
  },
  "cells": [
    {
      "cell_type": "markdown",
      "metadata": {
        "id": "view-in-github",
        "colab_type": "text"
      },
      "source": [
        "<a href=\"https://colab.research.google.com/github/Vasantha-Meghana/Predictive_Analytics_Projects/blob/Recommending_Courses_to_Users/predictive10.ipynb\" target=\"_parent\"><img src=\"https://colab.research.google.com/assets/colab-badge.svg\" alt=\"Open In Colab\"/></a>"
      ]
    },
    {
      "cell_type": "code",
      "execution_count": 1,
      "metadata": {
        "colab": {
          "base_uri": "https://localhost:8080/"
        },
        "id": "75iNk03nhlp4",
        "outputId": "8ace765f-f3e3-4419-e826-9061560add76"
      },
      "outputs": [
        {
          "output_type": "stream",
          "name": "stdout",
          "text": [
            "\n",
            "📘 Recommendations similar to 'course_8' in focus area 'machine learning':\n",
            "\n",
            "course_id                                        tags\n",
            " course_5 business, analytics, machine learning, java\n",
            "course_38           machine learning, java, analytics\n",
            "course_45           java, analytics, machine learning\n",
            "course_46 java, strategy, machine learning, analytics\n",
            "course_14           machine learning, data, analytics\n"
          ]
        }
      ],
      "source": [
        "import pandas as pd\n",
        "from sklearn.feature_extraction.text import TfidfVectorizer\n",
        "from sklearn.metrics.pairwise import cosine_similarity\n",
        "\n",
        "df = pd.read_csv(\"online_course_recommendation.csv\")  # Replace with your CSV file\n",
        "\n",
        "# Ensure essential columns exist\n",
        "required_columns = ['user_id', 'course_id', 'description', 'category', 'tags']\n",
        "for col in required_columns:\n",
        "    if col not in df.columns:\n",
        "        raise ValueError(f\"Missing required column: {col}\")\n",
        "\n",
        "df.dropna(subset=['course_id', 'description', 'tags'], inplace=True)\n",
        "\n",
        "df['content'] = df['description'].astype(str) + ' ' + df['tags'].astype(str)\n",
        "\n",
        "# TF-IDF vectorization\n",
        "tfidf = TfidfVectorizer(stop_words='english')\n",
        "tfidf_matrix = tfidf.fit_transform(df['content'])\n",
        "\n",
        "# Cosine similarity\n",
        "cosine_sim = cosine_similarity(tfidf_matrix, tfidf_matrix)\n",
        "\n",
        "def get_index_from_course_id(course_id):\n",
        "    matches = df[df['course_id'] == course_id]\n",
        "    if matches.empty:\n",
        "        return None\n",
        "    return matches.index[0]\n",
        "\n",
        "def recommend_courses(course_id, top_n=5, focus_area=None):\n",
        "    idx = get_index_from_course_id(course_id)\n",
        "    if idx is None:\n",
        "        return f\"❌ Course ID '{course_id}' not found in the dataset.\"\n",
        "\n",
        "    sim_scores = list(enumerate(cosine_sim[idx]))\n",
        "    sim_scores = sorted(sim_scores, key=lambda x: x[1], reverse=True)\n",
        "\n",
        "    sim_scores = [s for s in sim_scores if s[0] != idx]\n",
        "\n",
        "    if focus_area:\n",
        "        filtered_scores = []\n",
        "        for i, score in sim_scores:\n",
        "            tags = df.iloc[i]['tags']\n",
        "            if focus_area.lower() in tags.lower():\n",
        "                filtered_scores.append((i, score))\n",
        "    else:\n",
        "        filtered_scores = sim_scores\n",
        "\n",
        "    top_indices = [i for i, _ in filtered_scores[:top_n]]\n",
        "    recommended_courses = df.iloc[top_indices][['course_id', 'tags']]\n",
        "\n",
        "    return recommended_courses.reset_index(drop=True)\n",
        "\n",
        "# Example usage\n",
        "sample_course_id = 'course_8'\n",
        "focus_area = 'machine learning'\n",
        "\n",
        "print(f\"\\n📘 Recommendations similar to '{sample_course_id}' in focus area '{focus_area}':\\n\")\n",
        "recommendations = recommend_courses(course_id=sample_course_id, top_n=5, focus_area=focus_area)\n",
        "print(recommendations.to_string(index=False))"
      ]
    }
  ]
}