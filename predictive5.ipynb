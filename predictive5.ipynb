{
  "nbformat": 4,
  "nbformat_minor": 0,
  "metadata": {
    "colab": {
      "provenance": [],
      "authorship_tag": "ABX9TyNi+s76U5Te8LdZIeSd/dZs",
      "include_colab_link": true
    },
    "kernelspec": {
      "name": "python3",
      "display_name": "Python 3"
    },
    "language_info": {
      "name": "python"
    }
  },
  "cells": [
    {
      "cell_type": "markdown",
      "metadata": {
        "id": "view-in-github",
        "colab_type": "text"
      },
      "source": [
        "<a href=\"https://colab.research.google.com/github/Vasantha-Meghana/Predictive_Analytics_Projects/blob/Student_Admission_Prediction/predictive5.ipynb\" target=\"_parent\"><img src=\"https://colab.research.google.com/assets/colab-badge.svg\" alt=\"Open In Colab\"/></a>"
      ]
    },
    {
      "cell_type": "code",
      "execution_count": 2,
      "metadata": {
        "colab": {
          "base_uri": "https://localhost:8080/"
        },
        "id": "zG3_rSqUX_Jr",
        "outputId": "d603558c-f362-4f50-cc32-7812b95b4648"
      },
      "outputs": [
        {
          "output_type": "stream",
          "name": "stdout",
          "text": [
            "📊 Confusion Matrix:\n",
            " [[58  6]\n",
            " [ 3 33]]\n",
            "\n",
            "📋 Classification Report:\n",
            "               precision    recall  f1-score   support\n",
            "\n",
            "           0       0.95      0.91      0.93        64\n",
            "           1       0.85      0.92      0.88        36\n",
            "\n",
            "    accuracy                           0.91       100\n",
            "   macro avg       0.90      0.91      0.90       100\n",
            "weighted avg       0.91      0.91      0.91       100\n",
            "\n",
            "✅ Accuracy: 91.00%\n",
            "\n",
            "🎓 Prediction for New Student:\n",
            "✅ Likely to be admitted.\n"
          ]
        },
        {
          "output_type": "stream",
          "name": "stderr",
          "text": [
            "/usr/local/lib/python3.11/dist-packages/sklearn/utils/validation.py:2739: UserWarning: X does not have valid feature names, but StandardScaler was fitted with feature names\n",
            "  warnings.warn(\n"
          ]
        }
      ],
      "source": [
        "import pandas as pd\n",
        "import numpy as np\n",
        "from sklearn.model_selection import train_test_split\n",
        "from sklearn.preprocessing import StandardScaler\n",
        "from sklearn.linear_model import LogisticRegression\n",
        "from sklearn.metrics import classification_report, confusion_matrix, accuracy_score\n",
        "\n",
        "# 1. Load the dataset\n",
        "df = pd.read_csv('admission_data.csv')\n",
        "\n",
        "# 2. Strip extra spaces in column names\n",
        "df.columns = df.columns.str.strip()\n",
        "\n",
        "# 3. Create binary target: Admitted if Chance > 0.75\n",
        "df['Admitted'] = (df['Chance of Admit'] > 0.75).astype(int)\n",
        "\n",
        "# 4. Drop the original 'Chance of Admit' column\n",
        "df.drop(['Chance of Admit'], axis=1, inplace=True)\n",
        "\n",
        "# 5. Separate features and target\n",
        "X = df.drop('Admitted', axis=1)\n",
        "y = df['Admitted']\n",
        "\n",
        "# 6. Split into training and testing sets\n",
        "X_train, X_test, y_train, y_test = train_test_split(X, y, test_size=0.2, random_state=42)\n",
        "\n",
        "# 7. Scale the features\n",
        "scaler = StandardScaler()\n",
        "X_train_scaled = scaler.fit_transform(X_train)\n",
        "X_test_scaled = scaler.transform(X_test)\n",
        "\n",
        "# 8. Train Logistic Regression model\n",
        "model = LogisticRegression()\n",
        "model.fit(X_train_scaled, y_train)\n",
        "\n",
        "# 9. Make predictions\n",
        "y_pred = model.predict(X_test_scaled)\n",
        "\n",
        "# 10. Evaluation\n",
        "print(\"📊 Confusion Matrix:\\n\", confusion_matrix(y_test, y_pred))\n",
        "print(\"\\n📋 Classification Report:\\n\", classification_report(y_test, y_pred))\n",
        "print(f\"✅ Accuracy: {accuracy_score(y_test, y_pred) * 100:.2f}%\")\n",
        "\n",
        "# 11. Predict for a new student\n",
        "# Format: [GRE, TOEFL, University Rating, SOP, LOR, CGPA, Research]\n",
        "new_student = np.array([[320, 110, 4, 4.5, 4.5, 9.1, 1]])  # example\n",
        "new_student_scaled = scaler.transform(new_student)\n",
        "prediction = model.predict(new_student_scaled)\n",
        "\n",
        "print(\"\\n🎓 Prediction for New Student:\")\n",
        "if prediction[0] == 1:\n",
        "    print(\"✅ Likely to be admitted.\")\n",
        "else:\n",
        "    print(\"❌ Unlikely to be admitted.\")"
      ]
    }
  ]
}