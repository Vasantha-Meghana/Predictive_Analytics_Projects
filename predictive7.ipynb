{
  "nbformat": 4,
  "nbformat_minor": 0,
  "metadata": {
    "colab": {
      "provenance": [],
      "authorship_tag": "ABX9TyPzuACBxoLSf265raweuI/9",
      "include_colab_link": true
    },
    "kernelspec": {
      "name": "python3",
      "display_name": "Python 3"
    },
    "language_info": {
      "name": "python"
    }
  },
  "cells": [
    {
      "cell_type": "markdown",
      "metadata": {
        "id": "view-in-github",
        "colab_type": "text"
      },
      "source": [
        "<a href=\"https://colab.research.google.com/github/Vasantha-Meghana/Predictive_Analytics_Projects/blob/Recommending_Products_to_Users/predictive7.ipynb\" target=\"_parent\"><img src=\"https://colab.research.google.com/assets/colab-badge.svg\" alt=\"Open In Colab\"/></a>"
      ]
    },
    {
      "cell_type": "code",
      "execution_count": 1,
      "metadata": {
        "colab": {
          "base_uri": "https://localhost:8080/"
        },
        "id": "St0t2y2ncy-3",
        "outputId": "00483d53-06fe-4bc3-c980-cfb1863080ad"
      },
      "outputs": [
        {
          "output_type": "stream",
          "name": "stdout",
          "text": [
            "Top product recommendations for Customer 17850\n",
            "           Avg Quantity\n",
            "StockCode              \n",
            "21733         21.333333\n",
            "84077         16.000000\n",
            "21754         13.000000\n",
            "85066         10.000000\n",
            "22457         10.000000\n"
          ]
        }
      ],
      "source": [
        "import pandas as pd\n",
        "from sklearn.metrics.pairwise import cosine_similarity\n",
        "\n",
        "# Step 1: Load the dataset\n",
        "df = pd.read_csv(\"Online Retail Data Set.csv\", encoding='ISO-8859-1')\n",
        "\n",
        "# Step 2: Preprocess the data\n",
        "df = df[df['Quantity'] > 0]                            # Remove returns (negative quantity)\n",
        "df = df.dropna(subset=['CustomerID'])                 # Remove missing customer IDs\n",
        "df['CustomerID'] = df['CustomerID'].astype(int)       # Ensure CustomerID is integer\n",
        "\n",
        "# Step 3: Create user-product matrix\n",
        "basket = df.pivot_table(index='CustomerID',\n",
        "                        columns='StockCode',\n",
        "                        values='Quantity',\n",
        "                        aggfunc='sum',\n",
        "                        fill_value=0)\n",
        "\n",
        "# Step 4: Compute cosine similarity between users\n",
        "similarity_matrix = cosine_similarity(basket)\n",
        "user_similarity_df = pd.DataFrame(similarity_matrix, index=basket.index, columns=basket.index)\n",
        "\n",
        "# Step 5: Recommendation function\n",
        "def recommend_products(customer_id, top_n_similar_users=3, top_k_products=5):\n",
        "    if customer_id not in basket.index:\n",
        "        return f\"Customer ID {customer_id} not found in dataset.\"\n",
        "\n",
        "    # Find top similar users (excluding the target user)\n",
        "    similarity_scores = user_similarity_df[customer_id].drop(customer_id)\n",
        "    top_users = similarity_scores.sort_values(ascending=False).head(top_n_similar_users).index\n",
        "\n",
        "    # Mean quantity bought by similar users\n",
        "    similar_users_data = basket.loc[top_users]\n",
        "    mean_ratings = similar_users_data.mean()\n",
        "\n",
        "    # Remove products already purchased by the target user\n",
        "    target_user_data = basket.loc[customer_id]\n",
        "    products_to_recommend = mean_ratings[target_user_data == 0]\n",
        "\n",
        "    # Recommend top products\n",
        "    recommended_products = products_to_recommend.sort_values(ascending=False).head(top_k_products)\n",
        "\n",
        "    # Return as a DataFrame with proper heading\n",
        "    return pd.DataFrame({'Avg Quantity': recommended_products})\n",
        "\n",
        "# 🧪 Example usage\n",
        "customer_id = 17850\n",
        "print(\"Top product recommendations for Customer\", customer_id)\n",
        "print(recommend_products(customer_id))"
      ]
    }
  ]
}