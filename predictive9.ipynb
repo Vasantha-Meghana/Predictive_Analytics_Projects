{
  "nbformat": 4,
  "nbformat_minor": 0,
  "metadata": {
    "colab": {
      "provenance": [],
      "authorship_tag": "ABX9TyPkzi14RRtRFo5wLDARPQnR",
      "include_colab_link": true
    },
    "kernelspec": {
      "name": "python3",
      "display_name": "Python 3"
    },
    "language_info": {
      "name": "python"
    }
  },
  "cells": [
    {
      "cell_type": "markdown",
      "metadata": {
        "id": "view-in-github",
        "colab_type": "text"
      },
      "source": [
        "<a href=\"https://colab.research.google.com/github/Vasantha-Meghana/Predictive_Analytics_Projects/blob/Recommending_Books_to_Users/predictive9.ipynb\" target=\"_parent\"><img src=\"https://colab.research.google.com/assets/colab-badge.svg\" alt=\"Open In Colab\"/></a>"
      ]
    },
    {
      "cell_type": "code",
      "execution_count": 1,
      "metadata": {
        "colab": {
          "base_uri": "https://localhost:8080/"
        },
        "id": "_AIWiQOIf1YI",
        "outputId": "41eac93c-dea6-4724-9b44-b4b8c44f3b89"
      },
      "outputs": [
        {
          "output_type": "stream",
          "name": "stdout",
          "text": [
            "\n",
            "📚 Recommended books similar to 'The Hobbit' in Fantasy genre:\n",
            "\n",
            "                                 Book             Author                                                                                Genres  Avg_Rating\n",
            "                              Contact         Carl Sagan [Science Fiction, Fiction, Classics, Science Fiction Fantasy, Space, Novels, Fantasy]       0.828\n",
            "                      The Water Walls     iLana Markarov                                                                  [Fantasy, Adventure]       1.000\n",
            "Orion: The Fight for Vox (Voxian, #2) Ruth Watson-Morris                                                                             [Fantasy]       0.970\n",
            "                         Finley’s Way      Julie Mannino                                                                       [Fantasy, LGBT]       0.966\n",
            "      Eado's Birth (Jack's Reign, #3)      Julie Mannino                                                                             [Fantasy]       0.964\n"
          ]
        }
      ],
      "source": [
        "import pandas as pd\n",
        "from sklearn.metrics.pairwise import cosine_similarity\n",
        "from sklearn.feature_extraction.text import TfidfVectorizer\n",
        "from sklearn.preprocessing import MinMaxScaler\n",
        "\n",
        "# Step 1: Load the dataset\n",
        "df = pd.read_csv(\"goodreads_data.csv\", on_bad_lines='skip')\n",
        "\n",
        "# Step 2: Keep required columns\n",
        "df = df[['Book', 'Author', 'Genres', 'Avg_Rating', 'Num_Ratings']].dropna()\n",
        "df = df.drop_duplicates(subset='Book')\n",
        "\n",
        "# Step 3: Clean and convert numeric columns\n",
        "df['Num_Ratings'] = df['Num_Ratings'].replace(',', '', regex=True).astype(float)\n",
        "df['Avg_Rating'] = df['Avg_Rating'].astype(float)\n",
        "\n",
        "# Step 4: Normalize ratings\n",
        "scaler = MinMaxScaler()\n",
        "df[['Avg_Rating', 'Num_Ratings']] = scaler.fit_transform(df[['Avg_Rating', 'Num_Ratings']])\n",
        "\n",
        "# Step 5: Create TF-IDF matrix from authors\n",
        "tfidf = TfidfVectorizer(stop_words='english')\n",
        "author_matrix = tfidf.fit_transform(df['Author'])\n",
        "\n",
        "# Step 6: Combine author and numeric features\n",
        "numeric_features = df[['Avg_Rating', 'Num_Ratings']].values\n",
        "combined_features = pd.concat([\n",
        "    pd.DataFrame(author_matrix.toarray(), index=df.index),\n",
        "    pd.DataFrame(numeric_features, index=df.index)\n",
        "], axis=1)\n",
        "\n",
        "# Step 7: Cosine similarity\n",
        "similarity = cosine_similarity(combined_features)\n",
        "\n",
        "# Step 8: Recommendation function with genre filter\n",
        "def recommend_books_by_genre(book_title, genre_filter='Fantasy', top_n=5):\n",
        "    if book_title not in df['Book'].values:\n",
        "        return f\"❌ Book '{book_title}' not found in the dataset.\"\n",
        "\n",
        "    idx = df[df['Book'] == book_title].index[0]\n",
        "    similarity_scores = list(enumerate(similarity[idx]))\n",
        "    similarity_scores = sorted(similarity_scores, key=lambda x: x[1], reverse=True)\n",
        "\n",
        "    recommended = []\n",
        "    for i, score in similarity_scores[1:]:  # Skip the book itself\n",
        "        genres = eval(df.iloc[i]['Genres']) if isinstance(df.iloc[i]['Genres'], str) else []\n",
        "        if any(genre_filter.lower() in genre.lower() for genre in genres):\n",
        "            recommended.append({\n",
        "                'Book': df.iloc[i]['Book'],\n",
        "                'Author': df.iloc[i]['Author'],\n",
        "                'Genres': genres,\n",
        "                'Avg_Rating': round(df.iloc[i]['Avg_Rating'], 3)\n",
        "            })\n",
        "        if len(recommended) == top_n:\n",
        "            break\n",
        "\n",
        "    if not recommended:\n",
        "        return f\"⚠️ No recommendations found in the '{genre_filter}' genre.\"\n",
        "\n",
        "    # Display in structured format\n",
        "    print(f\"\\n📚 Recommended books similar to '{book_title}' in {genre_filter} genre:\\n\")\n",
        "    rec_df = pd.DataFrame(recommended)\n",
        "    print(rec_df[['Book', 'Author', 'Genres', 'Avg_Rating']].to_string(index=False))\n",
        "\n",
        "# Call the function\n",
        "recommend_books_by_genre(\"The Hobbit\", genre_filter=\"Fantasy\", top_n=5)"
      ]
    }
  ]
}